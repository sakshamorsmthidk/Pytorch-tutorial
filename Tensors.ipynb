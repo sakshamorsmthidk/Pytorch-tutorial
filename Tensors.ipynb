{
  "nbformat": 4,
  "nbformat_minor": 0,
  "metadata": {
    "colab": {
      "provenance": [],
      "gpuType": "T4",
      "authorship_tag": "ABX9TyP3YvCdKLM6IXXKvmBlRCBx",
      "include_colab_link": true
    },
    "kernelspec": {
      "name": "python3",
      "display_name": "Python 3"
    },
    "language_info": {
      "name": "python"
    },
    "accelerator": "GPU"
  },
  "cells": [
    {
      "cell_type": "markdown",
      "metadata": {
        "id": "view-in-github",
        "colab_type": "text"
      },
      "source": [
        "<a href=\"https://colab.research.google.com/github/sakshamorsmthidk/Pytorch-tutorial/blob/main/Tensors.ipynb\" target=\"_parent\"><img src=\"https://colab.research.google.com/assets/colab-badge.svg\" alt=\"Open In Colab\"/></a>"
      ]
    },
    {
      "cell_type": "code",
      "execution_count": 1,
      "metadata": {
        "id": "ysxbjA45cd9_"
      },
      "outputs": [],
      "source": [
        "import torch\n",
        "import numpy as np"
      ]
    },
    {
      "cell_type": "markdown",
      "source": [
        "**LISTS**"
      ],
      "metadata": {
        "id": "WWHbhSVNdN6p"
      }
    },
    {
      "cell_type": "code",
      "source": [
        "my_list = [1,2,3,4,5]\n",
        "my_list"
      ],
      "metadata": {
        "colab": {
          "base_uri": "https://localhost:8080/"
        },
        "id": "0Dsjd8EGdR8t",
        "outputId": "da391e60-d07b-4ace-ef09-ecd02409fe0b"
      },
      "execution_count": 3,
      "outputs": [
        {
          "output_type": "execute_result",
          "data": {
            "text/plain": [
              "[1, 2, 3, 4, 5]"
            ]
          },
          "metadata": {},
          "execution_count": 3
        }
      ]
    },
    {
      "cell_type": "markdown",
      "source": [
        "**NUMPY ARRAYS**"
      ],
      "metadata": {
        "id": "daRyItNDdl7e"
      }
    },
    {
      "cell_type": "code",
      "source": [
        "np1 = np.random.rand(3,4)\n",
        "np1"
      ],
      "metadata": {
        "colab": {
          "base_uri": "https://localhost:8080/"
        },
        "id": "PhVAuyeYdpwj",
        "outputId": "e4997090-c17f-462a-ea8f-c65250eea8b0"
      },
      "execution_count": 4,
      "outputs": [
        {
          "output_type": "execute_result",
          "data": {
            "text/plain": [
              "array([[0.21076259, 0.68756064, 0.62963649, 0.25957201],\n",
              "       [0.0764731 , 0.1080838 , 0.83369179, 0.26253901],\n",
              "       [0.17061541, 0.46194188, 0.61451913, 0.49433139]])"
            ]
          },
          "metadata": {},
          "execution_count": 4
        }
      ]
    },
    {
      "cell_type": "markdown",
      "source": [
        "**TENSORS**"
      ],
      "metadata": {
        "id": "M-9GQQ-Vd7B7"
      }
    },
    {
      "cell_type": "code",
      "source": [
        "tensor_2d = torch.randn(3,4)\n",
        "tensor_2d"
      ],
      "metadata": {
        "colab": {
          "base_uri": "https://localhost:8080/"
        },
        "id": "YFJNwsPod8lu",
        "outputId": "ccf97ceb-3c42-4413-e4de-b5d111667501"
      },
      "execution_count": 6,
      "outputs": [
        {
          "output_type": "execute_result",
          "data": {
            "text/plain": [
              "tensor([[ 0.2051, -0.1702, -1.6547, -1.1731],\n",
              "        [ 1.3041,  1.7968, -0.6418,  0.7145],\n",
              "        [-1.4309,  1.5085,  1.2539,  1.8641]])"
            ]
          },
          "metadata": {},
          "execution_count": 6
        }
      ]
    },
    {
      "cell_type": "code",
      "source": [
        "tensor_3d = torch.randn(2,3,4)\n",
        "tensor_3d"
      ],
      "metadata": {
        "colab": {
          "base_uri": "https://localhost:8080/"
        },
        "id": "0m6MCEB_eSoV",
        "outputId": "8a8a0f65-6366-4549-8b33-367836b68141"
      },
      "execution_count": 8,
      "outputs": [
        {
          "output_type": "execute_result",
          "data": {
            "text/plain": [
              "tensor([[[-0.2298, -0.0520, -0.2024, -0.7181],\n",
              "         [-0.7944, -0.3044, -1.4471,  0.1221],\n",
              "         [-0.2159, -0.1808,  0.3987, -0.5099]],\n",
              "\n",
              "        [[-0.0965, -0.2762, -0.0604, -0.5972],\n",
              "         [ 2.4026,  0.4888, -2.4863,  0.5950],\n",
              "         [-2.4051, -0.9267,  0.0721,  0.3836]]])"
            ]
          },
          "metadata": {},
          "execution_count": 8
        }
      ]
    },
    {
      "cell_type": "code",
      "source": [
        "#Convert numpy to tensor\n",
        "my_tensor = torch.tensor(np1)\n",
        "my_tensor"
      ],
      "metadata": {
        "colab": {
          "base_uri": "https://localhost:8080/"
        },
        "id": "RN7iBKPteoGz",
        "outputId": "6559c2ed-4dce-4121-cb0d-71e9b2a77e3c"
      },
      "execution_count": 9,
      "outputs": [
        {
          "output_type": "execute_result",
          "data": {
            "text/plain": [
              "tensor([[0.2108, 0.6876, 0.6296, 0.2596],\n",
              "        [0.0765, 0.1081, 0.8337, 0.2625],\n",
              "        [0.1706, 0.4619, 0.6145, 0.4943]], dtype=torch.float64)"
            ]
          },
          "metadata": {},
          "execution_count": 9
        }
      ]
    }
  ]
}